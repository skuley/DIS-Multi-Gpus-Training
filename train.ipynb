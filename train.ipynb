{
 "cells": [
  {
   "cell_type": "code",
   "execution_count": null,
   "id": "ac544a26-7d36-477b-b1ad-5e7d44a355aa",
   "metadata": {},
   "outputs": [],
   "source": [
    "%load_ext autoreload\n",
    "%autoreload 2\n",
    "\n",
    "import os\n",
    "import os.path as osp\n",
    "import pytorch_lightning as pl\n",
    "import torch\n",
    "from model.isnet import DISNet, GtEncoder"
   ]
  },
  {
   "cell_type": "code",
   "execution_count": null,
   "id": "19808be4-3adc-498c-bfae-7c124b90c655",
   "metadata": {},
   "outputs": [],
   "source": [
    "state_dict = torch.load('saved_model/pretrained/isnet.pth', map_location='cpu')"
   ]
  },
  {
   "cell_type": "code",
   "execution_count": null,
   "id": "58243d01-6ad9-4676-9d56-f6486c100537",
   "metadata": {},
   "outputs": [],
   "source": [
    "import torch\n",
    "import torch.nn as nn\n",
    "import torch.nn.functional as F\n",
    "from typing import Dict, Any\n",
    "\n",
    "bce_loss = nn.BCELoss()\n",
    "bce_w_loss = nn.BCEWithLogitsLoss()\n",
    "mse_loss = nn.MSELoss(reduction = \"mean\")\n",
    "\n",
    "def bce_loss_calc(gt_feature_maps, gt):\n",
    "    sum_loss = 0\n",
    "    for idx, output in enumerate(gt_feature_maps):\n",
    "        loss = bce_loss(component, gt)\n",
    "        sum_loss += loss\n",
    "    return sum_loss\n",
    "\n",
    "def feature_sync(gt_outputs, u2net_outputs):\n",
    "    loss_lst = []\n",
    "    for idx, gt_output in enumerate(gt_outputs):\n",
    "        loss = mse_loss(gt_output, u2net_outputs[idx])\n",
    "        loss_lst.append(loss)\n",
    "\n",
    "    loss = sum(loss_lst)\n",
    "    return loss\n",
    "\n",
    "    loss = nn.L1Loss()\n",
    "    return loss(input_data, target_data)\n",
    "\n",
    "class Net(pl.LightningModule):\n",
    "    def __init__(self, model, pretrained: str = None, lr: float = 0.001, epsilon: float = 1e-08, batch_size: int = 0) -> object:\n",
    "        super(Net, self).__init__()\n",
    "        self.lr = lr\n",
    "        self.epsilon = epsilon\n",
    "        self.net = model\n",
    "        self.gt_encoder = None\n",
    "        self.batch_size = batch_size\n",
    "        \n",
    "        if pretrained:\n",
    "            state_dict = torch.load(pretrained, map_location='cpu')\n",
    "            self.net.load_state_dict(state_dict)\n",
    "            print('----------------------------------------------------------------------------------------------------')\n",
    "            print('pretrained loaded')\n",
    "            print('----------------------------------------------------------------------------------------------------')\n",
    "    \n",
    "    def load_gt_encoder(self, gt_encoder, pretrained: str = None):\n",
    "        self.gt_encoder = gt_encoder\n",
    "        if pretrained:\n",
    "            state_dict = torch.load(pretrained, map_location='cpu')\n",
    "            self.gt_encoder.load_state_dict(state_dict)\n",
    "            \n",
    "        self.gt_encoder.eval()\n",
    "        print('gt_encoder is loaded')\n",
    "        print('----------------------------------------------------------------------------------------------------')\n",
    "        \n",
    "    def configure_optimizers(self):\n",
    "        optimizer = torch.optim.Adam(self.u2net.parameters(), lr=self.lr, betas=(0.9, 0.999), eps=self.epsilon, weight_decay=0)\n",
    "        return optimizer\n",
    "    \n",
    "    def forward(self, x):\n",
    "        return self.net(x)\n",
    "    \n",
    "    def _common_step(self, batch, batch_idx):\n",
    "        image, gt = batch['image'], batch['gt']\n",
    "        im_side_outputs, im_features = self.net(image)\n",
    "        loss = bce_loss(outputs, gt)\n",
    "        \n",
    "        if self.gt_encoder:\n",
    "            gt_side_outputs, gt_features = self.gt_encoder(gt)\n",
    "            fs_mse_loss = feat_sync(gt_features, im_features)\n",
    "            loss += fs_mse_loss\n",
    "        \n",
    "        self.log(f\"{stage}_loss\", loss, on_epoch=True)\n",
    "        return loss\n",
    "    \n",
    "    def training_step(self, batch, batch_idx):\n",
    "        loss = self._common_step(batch, batch_idx)\n",
    "        return loss\n",
    "        \n",
    "    def validation_step(self, batch, batch_idx):\n",
    "        loss = self._common_step(batch, batch_idx)\n",
    "        self.val_loss = loss\n",
    "        return loss\n",
    "    \n",
    "#     def on_save_checkpoint(self, checkpoint: Dict[str, Any]) -> None:\n",
    "#         state_dict = checkpoint['state_dict']\n",
    "#         epoch = checkpoint['epoch']\n",
    "#         PATH = f'epoch={epoch}-val_loss={self.val_loss}-batch_size={self.batch_size}.pth'\n",
    "        \n",
    "#         key_word = 'net.'\n",
    "#         new_sd = OD()\n",
    "#         for key, value in state_dict.items():\n",
    "#             if key_word in key:\n",
    "#                 key = key.replace(key_word, '')\n",
    "#             new_sd[key] = value\n",
    "        \n",
    "#         # save .pth file seperately\n",
    "#         torch.save(new_sd, PATH)\n",
    "    \n",
    "    def predict_step(self, batch, batch_idx):\n",
    "        image, gt = batch['image'], batch['gt']\n",
    "        return self.net(image)\n",
    "        "
   ]
  },
  {
   "cell_type": "markdown",
   "id": "dad7098f-29f9-4613-a1ba-b97550349a4a",
   "metadata": {
    "tags": []
   },
   "source": [
    "# DISNet Train"
   ]
  },
  {
   "cell_type": "code",
   "execution_count": null,
   "id": "7d050142-da3c-4bd8-99ef-db2d6f2a0956",
   "metadata": {},
   "outputs": [],
   "source": [
    "disnet = DISNet(3,1)\n",
    "gt_encoder = GtEncoder(1,1)\n",
    "disnet_pretrained = 'saved_model/pretrained/isnet.pth'\n",
    "\n",
    "net = Net(disnet, pretrained=disnet_pretrained)\n",
    "net.load_gt_encoder(gt_encoder, pretrained=None)"
   ]
  },
  {
   "cell_type": "markdown",
   "id": "c3b4aad6-5d40-449e-b0f9-00dfdb849708",
   "metadata": {
    "jp-MarkdownHeadingCollapsed": true,
    "tags": []
   },
   "source": [
    "# GTEncoder Train"
   ]
  },
  {
   "cell_type": "code",
   "execution_count": null,
   "id": "1f6ef375-6b43-4430-956c-5cd874f14bf9",
   "metadata": {},
   "outputs": [],
   "source": [
    "gt_encoder = GtEncoder(1,1)\n",
    "net = Net(gt_encoder)"
   ]
  },
  {
   "cell_type": "markdown",
   "id": "e9e7a776-e35b-4c59-9f4c-6e1f704819ba",
   "metadata": {
    "jp-MarkdownHeadingCollapsed": true,
    "tags": []
   },
   "source": [
    "# Dataset GtEncoder"
   ]
  },
  {
   "cell_type": "code",
   "execution_count": null,
   "id": "7905e93f-4b7b-4c33-8ff7-68864dd1b59f",
   "metadata": {},
   "outputs": [],
   "source": [
    "%load_ext autoreload\n",
    "%autoreload 2\n",
    "\n",
    "from utils.gt_dataset import Dataset\n",
    "import albumentations as A\n",
    "\n",
    "input_size = 1280\n",
    "\n",
    "mask_transform = A.Compose([\n",
    "    A.Resize(width=input_size, height=input_size),\n",
    "    A.RandomCrop(width=1024, height=1024),\n",
    "    A.HorizontalFlip(p=0.5),\n",
    "    A.VerticalFlip(p=0.8),\n",
    "    A.RandomRotate90(p=0.8)\n",
    "])\n",
    "\n",
    "image_transform = A.Compose([\n",
    "    A.CLAHE(p=0.8),\n",
    "    A.RandomBrightnessContrast(p=0.8),\n",
    "    A.RandomGamma(p=0.8)]\n",
    ")\n",
    "\n",
    "batch_size = 8\n",
    "\n",
    "tr_ds = Dataset(image_path='../data/DIS5K/DIS-TR/gt', transform=mask_transform)\n",
    "len(tr_ds)"
   ]
  },
  {
   "cell_type": "code",
   "execution_count": null,
   "id": "e07811bb-4433-4c81-aa5a-0fe589004b50",
   "metadata": {},
   "outputs": [],
   "source": [
    "A.Compose(mask_transform[1:])(image=im_arr)"
   ]
  },
  {
   "cell_type": "code",
   "execution_count": null,
   "id": "1789c683-0be8-4f00-ba6b-b44f882c9184",
   "metadata": {},
   "outputs": [],
   "source": [
    "import numpy as np\n",
    "image_path = tr_ds.images[1200]\n",
    "im = Image.open(image_path).convert('L').resize((1024,1024))\n",
    "im_arr = np.array(im)\n",
    "Image.fromarray(im_arr)"
   ]
  },
  {
   "cell_type": "code",
   "execution_count": null,
   "id": "a6daf88b-d766-4cc3-804e-ff1927f5ea6e",
   "metadata": {},
   "outputs": [],
   "source": [
    "from PIL import Image\n",
    "data = tr_ds[0]\n",
    "display(Image.fromarray(data['image']))\n",
    "Image.fromarray(data['gt'])"
   ]
  },
  {
   "cell_type": "markdown",
   "id": "104e747b-c898-440e-91b8-07f59ee85c70",
   "metadata": {
    "tags": []
   },
   "source": [
    "# Dataset DISNet"
   ]
  },
  {
   "cell_type": "code",
   "execution_count": null,
   "id": "1001ed55-46b4-4e13-b78e-4e44c8949b9a",
   "metadata": {},
   "outputs": [],
   "source": [
    "%load_ext autoreload\n",
    "%autoreload 2\n",
    "\n",
    "from utils.isnet_dataset import Dataset\n",
    "import albumentations as A\n",
    "\n",
    "input_size = 1280\n",
    "\n",
    "mask_transform = A.Compose([\n",
    "    A.Resize(width=input_size, height=input_size),\n",
    "    A.RandomCrop(width=1024, height=1024),\n",
    "    A.HorizontalFlip(p=0.5),\n",
    "    A.VerticalFlip(p=0.8),\n",
    "    A.RandomRotate90(p=0.8)\n",
    "])\n",
    "\n",
    "image_transform = A.Compose([\n",
    "    A.CLAHE(p=0.8),\n",
    "    A.RandomBrightnessContrast(p=0.8),\n",
    "    A.RandomGamma(p=0.8)]\n",
    ")\n",
    "\n",
    "batch_size = 8\n",
    "\n",
    "tr_ds = Dataset(image_path='../data/DIS5K/DIS-TR/im', gt_path='../data/DIS5K/DIS-TR/gt',\n",
    "                image_transform=image_transform,\n",
    "                gt_transform=mask_transform,\n",
    "                load_on_mem=True)\n",
    "len(tr_ds)"
   ]
  },
  {
   "cell_type": "code",
   "execution_count": null,
   "id": "0cff079a-082e-49d7-bfe6-7d6e40ae5c5b",
   "metadata": {},
   "outputs": [],
   "source": [
    "from PIL import Image\n",
    "data = tr_ds[0]\n",
    "display(Image.fromarray(data['image']))\n",
    "Image.fromarray(data['gt'])"
   ]
  }
 ],
 "metadata": {
  "kernelspec": {
   "display_name": "pytorch_lightning",
   "language": "python",
   "name": "pytorch_lightning"
  },
  "language_info": {
   "codemirror_mode": {
    "name": "ipython",
    "version": 3
   },
   "file_extension": ".py",
   "mimetype": "text/x-python",
   "name": "python",
   "nbconvert_exporter": "python",
   "pygments_lexer": "ipython3",
   "version": "3.8.5"
  }
 },
 "nbformat": 4,
 "nbformat_minor": 5
}
